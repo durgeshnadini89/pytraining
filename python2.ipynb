{
  "nbformat": 4,
  "nbformat_minor": 0,
  "metadata": {
    "colab": {
      "name": "python2.ipynb",
      "provenance": [],
      "authorship_tag": "ABX9TyNW1b8zzKEGiP80Sn2AvlsZ",
      "include_colab_link": true
    },
    "kernelspec": {
      "name": "python3",
      "display_name": "Python 3"
    }
  },
  "cells": [
    {
      "cell_type": "markdown",
      "metadata": {
        "id": "view-in-github",
        "colab_type": "text"
      },
      "source": [
        "<a href=\"https://colab.research.google.com/github/durgeshnadini89/pytraining/blob/master/python2.ipynb\" target=\"_parent\"><img src=\"https://colab.research.google.com/assets/colab-badge.svg\" alt=\"Open In Colab\"/></a>"
      ]
    },
    {
      "cell_type": "code",
      "metadata": {
        "id": "xwCI258jwEH2",
        "colab_type": "code",
        "colab": {
          "base_uri": "https://localhost:8080/",
          "height": 51
        },
        "outputId": "b0c18099-db1d-4a7d-9646-10c6a80f4e3d"
      },
      "source": [
        "name =\"nandini\"\n",
        "print(name)\n",
        "print(\"durgesh\")"
      ],
      "execution_count": 2,
      "outputs": [
        {
          "output_type": "stream",
          "text": [
            "nandini\n",
            "durgesh\n"
          ],
          "name": "stdout"
        }
      ]
    }
  ]
}